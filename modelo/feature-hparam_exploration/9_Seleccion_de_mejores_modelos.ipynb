{
 "cells": [
  {
   "cell_type": "markdown",
   "id": "8cd795e1-5d78-412d-8344-948e65d764c9",
   "metadata": {},
   "source": [
    "# Librerias"
   ]
  },
  {
   "cell_type": "code",
   "execution_count": null,
   "id": "3f2028a2-f3b2-429e-8f80-49546b0b5cfe",
   "metadata": {
    "tags": []
   },
   "outputs": [],
   "source": [
    "%load_ext autoreload\n",
    "%autoreload 2\n",
    "import pickle\n",
    "\n",
    "import pandas as pd\n",
    "import univariate_utils\n",
    "import multivariate_utils\n",
    "\n",
    "from exploration import load_datasets\n",
    "from model_pruning import (\n",
    "    assign_dataset_configs,\n",
    "    transform_datasets,\n",
    "    remove_high_colineality_columns,\n",
    "    train_base_dataset_models,\n",
    "    train_best_features_models\n",
    ")"
   ]
  },
  {
   "cell_type": "markdown",
   "id": "bb46adf8-336b-457a-9ea3-8043c2cbc604",
   "metadata": {},
   "source": [
    "# Constantes"
   ]
  },
  {
   "cell_type": "code",
   "execution_count": null,
   "id": "8fd1d215-488b-41db-9350-b67abec8f766",
   "metadata": {
    "tags": []
   },
   "outputs": [],
   "source": [
    "ORIGINAL_METRICS_FILE = \"results/summary.csv\"\n",
    "EXTENDED_METRICS_FILE = \"extended_data_results/summary.csv\""
   ]
  },
  {
   "cell_type": "code",
   "execution_count": null,
   "id": "22e09e1f-ac85-455d-bc1d-8bb9a2749769",
   "metadata": {
    "tags": []
   },
   "outputs": [],
   "source": [
    "OUTPUT_MODELS_FILE = \"final_models/trained_no_colineal_models.pkl\""
   ]
  },
  {
   "cell_type": "code",
   "execution_count": null,
   "id": "24ee47f2-108b-4c51-ab7b-fb9123e3e421",
   "metadata": {
    "tags": []
   },
   "outputs": [],
   "source": [
    "NUM_TRANSFORMS_TO_IGNORE = [\"powerTransformer\", \"polynomialFeatures\"]"
   ]
  },
  {
   "cell_type": "code",
   "execution_count": null,
   "id": "f9c92083-ebd2-4deb-a5e3-2327feea0fc1",
   "metadata": {
    "tags": []
   },
   "outputs": [],
   "source": [
    "SELECTION_METRIC = \"R2\"\n",
    "LOWER_IS_BEST = False"
   ]
  },
  {
   "cell_type": "code",
   "execution_count": null,
   "id": "2b517cd1-9b8b-425f-afd1-f400733825aa",
   "metadata": {
    "tags": []
   },
   "outputs": [],
   "source": [
    "MAX_COLINEALITY = 0.90"
   ]
  },
  {
   "cell_type": "markdown",
   "id": "d64d7467-7702-422d-b4f6-8a87be9473c5",
   "metadata": {},
   "source": [
    "# Utils\n",
    "Validando y seleccionando de los modelos más sobresalientes para cada conjunto de datos, basándose en una métrica particular y siguiendo criterios de selección predefinidos."
   ]
  },
  {
   "cell_type": "code",
   "execution_count": null,
   "id": "5e1c5483-4c14-4179-8b6f-f784d31627b7",
   "metadata": {
    "tags": []
   },
   "outputs": [],
   "source": [
    "def filter_best_models(df: pd.DataFrame) -> pd.DataFrame:\n",
    "    \"\"\"Filters best model config by Marca and selected metric in test\"\"\"\n",
    "    df_test = df[\n",
    "        df[\"split\"] == \"test\"\n",
    "    ].sort_values(SELECTION_METRIC, ascending=LOWER_IS_BEST)\n",
    "    \n",
    "    df_best = df_test.groupby(\"dataset\").head(1).sort_values(\"dataset\")\n",
    "    \n",
    "    return df_best"
   ]
  },
  {
   "cell_type": "markdown",
   "id": "949a7c39-896c-4325-8b2f-0bfe5b98973e",
   "metadata": {},
   "source": [
    "# Ejecucion"
   ]
  },
  {
   "cell_type": "markdown",
   "id": "09655549-4007-49be-8a0a-7828f534d2c2",
   "metadata": {},
   "source": [
    "## Lectura de metricas"
   ]
  },
  {
   "cell_type": "code",
   "execution_count": null,
   "id": "2b6e6cda-41e6-4574-9adc-d39d5fd94ffc",
   "metadata": {
    "tags": []
   },
   "outputs": [],
   "source": [
    "df_original = pd.read_csv(ORIGINAL_METRICS_FILE)\n",
    "df_extended = pd.read_csv(EXTENDED_METRICS_FILE)"
   ]
  },
  {
   "cell_type": "markdown",
   "id": "5f4fc1d3-522d-4376-8bc8-3ea80f9eddf3",
   "metadata": {},
   "source": [
    "### Ignorando polynomial features por dificultad de interpretacion\n",
    "Se procede a eliminar del análisis ciertas transformaciones de datos en nuestros DataFrames, df_original y df_extended. Estas transformaciones específicas están definidas en una lista llamada NUM_TRANSFORMS_TO_IGNORE. La razón es para enfocarnos en un subconjunto específico de transformaciones que son más relevantes o más fáciles de interpretar en nuestro análisis. Al hacerlo, podemos simplificar nuestro conjunto de datos y centrarnos en lo que realmente importa para nuestro análisis. Esto nos ayuda a tener una comprensión más clara de los resultados y a tomar decisiones más informadas"
   ]
  },
  {
   "cell_type": "code",
   "execution_count": null,
   "id": "0a88e951-714c-4339-953f-4e55a7d95132",
   "metadata": {},
   "outputs": [],
   "source": [
    "for trans in NUM_TRANSFORMS_TO_IGNORE:\n",
    "    df_original = df_original[\n",
    "        df_original[\"num_config\"] != trans\n",
    "    ].copy(deep=True)\n",
    "    df_extended = df_extended[\n",
    "        df_extended[\"num_config\"] != trans\n",
    "    ].copy(deep=True)    "
   ]
  },
  {
   "cell_type": "code",
   "execution_count": null,
   "id": "4c7b26d3-9b32-4c74-b435-6a4462e5afc3",
   "metadata": {
    "tags": []
   },
   "outputs": [],
   "source": [
    "df_original.head(5)"
   ]
  },
  {
   "cell_type": "code",
   "execution_count": null,
   "id": "3ba3168b-6d16-4a2f-b233-3ab5da1fbb90",
   "metadata": {
    "tags": []
   },
   "outputs": [],
   "source": [
    "df_extended.head(5)"
   ]
  },
  {
   "cell_type": "markdown",
   "id": "4b78eb10-867e-46ac-8bf5-55403e8ecf98",
   "metadata": {},
   "source": [
    "# Filtrado de mejores resultados en test \n",
    "El modelo ampliado demuestra consistentemente un mejor rendimiento por marca en comparación con el modelo que utiliza solo las características originales. Sin embargo, este aumento en el rendimiento también se acompaña de una complejidad adicional, ya que ambos modelos tienen un número significativo de características. Para facilitar la interpretación de los resultados, se hace necesaria la eliminación de características, lo que implica identificar y retener solo las características más relevantes y significativas para el análisis. Esta estrategia de selección de características es esencial para garantizar que el modelo sea interpretable y permita una comprensión más clara de la influencia de cada característica en las predicciones."
   ]
  },
  {
   "cell_type": "code",
   "execution_count": null,
   "id": "f27f4b2d-598f-4497-9008-e4ddfbec9878",
   "metadata": {
    "tags": []
   },
   "outputs": [],
   "source": [
    "df_original_best = filter_best_models(df_original)\n",
    "df_original_best"
   ]
  },
  {
   "cell_type": "code",
   "execution_count": null,
   "id": "21f68e98-e6b2-4964-8e1f-9905db35049a",
   "metadata": {
    "tags": []
   },
   "outputs": [],
   "source": [
    "df_extended_best = filter_best_models(df_extended)\n",
    "df_extended_best"
   ]
  },
  {
   "cell_type": "code",
   "execution_count": null,
   "id": "a994e3b3-2d4c-499d-a129-0d61798486da",
   "metadata": {
    "tags": []
   },
   "outputs": [],
   "source": [
    "df_original_best[\"feature_set\"] = \"original\"\n",
    "df_extended_best[\"feature_set\"] = \"extended\"\n",
    "\n",
    "df_best_configs = filter_best_models(\n",
    "    pd.concat([df_original_best, df_extended_best])\n",
    ")"
   ]
  },
  {
   "cell_type": "code",
   "execution_count": null,
   "id": "4f616d41-ab7f-4ece-ad2e-6b66c2da4c72",
   "metadata": {
    "tags": []
   },
   "outputs": [],
   "source": [
    "df_best_configs[\"feature_count\"] = df_best_configs[\"columns\"].apply(\n",
    "    lambda x: len(eval(x))\n",
    ")"
   ]
  },
  {
   "cell_type": "code",
   "execution_count": null,
   "id": "9aed9e70-53c0-44fa-a550-a5522dd3ddc9",
   "metadata": {
    "tags": []
   },
   "outputs": [],
   "source": [
    "df_best_configs"
   ]
  },
  {
   "cell_type": "markdown",
   "id": "352df242-9243-4266-b550-3c37aec541f9",
   "metadata": {},
   "source": [
    "# Visualizando que influencia mas las metricas en test\n",
    "Explorando cómo diferentes variables, como el conjunto de datos, la configuración numérica, las configuraciones escaladas y las codificadas, afectan una métrica específica que utilizamos para seleccionar modelos en nuestro conjunto de prueba. Verificando de esta manera, qué variables tienen un impacto más significativo en el rendimiento de nuestros modelos. Esta exploración nos ayuda a identificar las características que más influyen en la métrica de selección, lo que a su vez nos permite tomar decisiones más informadas para mejorar el rendimiento de nuestros modelos."
   ]
  },
  {
   "cell_type": "code",
   "execution_count": null,
   "id": "205a780b-ba14-401b-a638-27e6126051d6",
   "metadata": {
    "tags": []
   },
   "outputs": [],
   "source": [
    "df_plot_metrics = df_extended[\n",
    "    df_extended[\"split\"] == \"test\"\n",
    "].copy(deep=True)"
   ]
  },
  {
   "cell_type": "code",
   "execution_count": null,
   "id": "b0b4625e-14a9-4d2e-80cb-a5ab6cfe400b",
   "metadata": {
    "tags": []
   },
   "outputs": [],
   "source": [
    "df_plot_metrics[\"scat_config_type\"] =  df_plot_metrics[\"scat_config\"].apply(\n",
    "    lambda x: x.split(\"__\")[0]\n",
    ")\n",
    "df_plot_metrics[\"lcat_config_type\"] =  df_plot_metrics[\"lcat_config\"].apply(\n",
    "    lambda x: x.split(\"__\")[0]\n",
    ")"
   ]
  },
  {
   "cell_type": "code",
   "execution_count": null,
   "id": "b1e90c53-ad73-4e98-8ef8-6d8a91ea4752",
   "metadata": {
    "scrolled": true,
    "tags": []
   },
   "outputs": [],
   "source": [
    "for col in [\"dataset\", \"num_config\", \"scat_config\", \"lcat_config\", \"model\"]:\n",
    "    print(\"*\" * 100)\n",
    "    print(f\"{col} influence over {SELECTION_METRIC}\")\n",
    "    multivariate_utils.plot_distributions(\n",
    "        df_plot_metrics,\n",
    "        SELECTION_METRIC,\n",
    "        col,\n",
    "        (10, 5),\n",
    "        \"box\",  # Puede ser hist o box\n",
    "        False\n",
    "    )\n",
    "    multivariate_utils.make_column_non_graphic_analysis(\n",
    "        df_plot_metrics,\n",
    "        SELECTION_METRIC,\n",
    "        col\n",
    "    )"
   ]
  },
  {
   "cell_type": "markdown",
   "id": "33a19aca-c218-472a-8736-11a4aefce0fa",
   "metadata": {},
   "source": [
    "# Transformacion de datasets"
   ]
  },
  {
   "cell_type": "code",
   "execution_count": null,
   "id": "d0edfa1f-2d28-42ea-96db-544304fd0c92",
   "metadata": {
    "tags": []
   },
   "outputs": [],
   "source": [
    "datasets = assign_dataset_configs(df_best_configs)"
   ]
  },
  {
   "cell_type": "code",
   "execution_count": null,
   "id": "fa77c435-71cb-4121-a66a-a1172ae2c882",
   "metadata": {
    "tags": []
   },
   "outputs": [],
   "source": [
    "datasets[\"muelle\"].keys()"
   ]
  },
  {
   "cell_type": "code",
   "execution_count": null,
   "id": "0c6f61e1-029c-40ac-82e8-8a34d9120d8d",
   "metadata": {
    "tags": []
   },
   "outputs": [],
   "source": [
    "for marca in datasets:\n",
    "    print(marca)\n",
    "    print(datasets[marca][\"config\"])"
   ]
  },
  {
   "cell_type": "code",
   "execution_count": null,
   "id": "5d9197a2-f7eb-4319-94b2-810e903652c1",
   "metadata": {
    "tags": []
   },
   "outputs": [],
   "source": [
    "datasets_trans = transform_datasets(datasets)"
   ]
  },
  {
   "cell_type": "code",
   "execution_count": null,
   "id": "58f632ae-0ec7-4d78-a063-1b9237b1ddb6",
   "metadata": {
    "tags": []
   },
   "outputs": [],
   "source": [
    "(\n",
    "    datasets_trans[\"muelle\"][\"X_train\"].shape,\n",
    "    datasets_trans[\"muelle\"][\"X_test\"].shape,\n",
    "    len(datasets_trans[\"muelle\"][\"columns\"])\n",
    ")"
   ]
  },
  {
   "cell_type": "markdown",
   "id": "a9466244-b704-4c5e-a42f-25f3a7a03797",
   "metadata": {},
   "source": [
    "# Eliminacion de columnas con alta colinealidad"
   ]
  },
  {
   "cell_type": "code",
   "execution_count": null,
   "id": "826f1632-9314-4505-8e6d-ce2cee819b4a",
   "metadata": {
    "scrolled": true,
    "tags": []
   },
   "outputs": [],
   "source": [
    "remove_high_colineality_columns(datasets_trans, MAX_COLINEALITY)"
   ]
  },
  {
   "cell_type": "code",
   "execution_count": null,
   "id": "4f609651-7071-4799-b74a-62cb2ddf9cd6",
   "metadata": {
    "tags": []
   },
   "outputs": [],
   "source": [
    "for marca, marca_config in datasets_trans.items():\n",
    "    print(f\"Marca {marca} now has {len(marca_config['columns'])} features\")"
   ]
  },
  {
   "cell_type": "markdown",
   "id": "eb424d38-95b2-4a37-b1c2-cb246b4d2022",
   "metadata": {},
   "source": [
    "# Entrenamiento de modelos para hallar features mas relevantes\n",
    "Como se usan modelos no lineales, se necesita entender la linealidad de las features con la variable de salida por medio de la importancia de las features."
   ]
  },
  {
   "cell_type": "code",
   "execution_count": null,
   "id": "29be4e9c-94a5-4b97-8ffa-bd00d87857ca",
   "metadata": {
    "tags": []
   },
   "outputs": [],
   "source": [
    "datasets_trans[\"muelle\"][\"config\"]"
   ]
  },
  {
   "cell_type": "code",
   "execution_count": null,
   "id": "fd5c1896-788a-4b80-8a3b-3a802279bb7e",
   "metadata": {
    "scrolled": true,
    "tags": []
   },
   "outputs": [],
   "source": [
    "train_base_dataset_models(datasets_trans)"
   ]
  },
  {
   "cell_type": "code",
   "execution_count": null,
   "id": "605be97a-4877-4076-a6d1-b9fbbb63f20c",
   "metadata": {
    "tags": []
   },
   "outputs": [],
   "source": [
    "datasets_trans[\"muelle\"][\"metrics\"]"
   ]
  },
  {
   "cell_type": "code",
   "execution_count": null,
   "id": "0696e554-810f-4642-83f4-32bda10ee63f",
   "metadata": {
    "tags": []
   },
   "outputs": [],
   "source": [
    "df_no_colineal_metrics = pd.concat(\n",
    "    [\n",
    "        marca_config[\"metrics\"]\n",
    "        for marca, marca_config in datasets_trans.items()\n",
    "    ]\n",
    ")\n",
    "df_no_colineal_metrics"
   ]
  },
  {
   "cell_type": "code",
   "execution_count": null,
   "id": "e695aac3-66e0-467b-bf4d-f72ad61b4710",
   "metadata": {
    "tags": []
   },
   "outputs": [],
   "source": [
    "df_no_colineal_metrics[\n",
    "    df_no_colineal_metrics[\"split\"] == \"test\"\n",
    "].sort_values(\"marca\")"
   ]
  },
  {
   "cell_type": "markdown",
   "id": "0ee263c9-8ecd-449c-9e87-6e5f691962b2",
   "metadata": {},
   "source": [
    "# Entrenamiento de modelos con features que altos coeficientes\n",
    "Entrenamiento de los modelos para diferentes marcas en el conjunto de datos. Primero, se seleccionan las 20 características principales para cada marca en el conjunto de datos. Luego, se entrenan modelos utilizando estas características seleccionadas. Se realiza un seguimiento de las métricas de rendimiento de cada marca y se muestran las columnas seleccionadas para cada modelo. Finalmente, los modelos resultantes se guardan en el archivo utilizando el módulo de Python \"pickle\". Entrenamiento, seguimiento y almacenamiento de modelos basados en las mejores características para diferentes marcas en el conjunto de datos."
   ]
  },
  {
   "cell_type": "code",
   "execution_count": null,
   "id": "ac1e4316-09fc-4ef5-b275-18de0cdcac37",
   "metadata": {
    "tags": []
   },
   "outputs": [],
   "source": [
    "MARCA_TOP_FEATURES = {\n",
    "    marca: 20\n",
    "    for marca in datasets_trans\n",
    "}"
   ]
  },
  {
   "cell_type": "code",
   "execution_count": null,
   "id": "3f4edf18-ff6c-4fa4-9214-34c0483c40a3",
   "metadata": {
    "tags": []
   },
   "outputs": [],
   "source": [
    "top_features_datasets_trans = train_best_features_models(datasets_trans, MARCA_TOP_FEATURES)"
   ]
  },
  {
   "cell_type": "code",
   "execution_count": null,
   "id": "48dcdf96-94a9-4212-a17f-bc0dabf188cb",
   "metadata": {
    "scrolled": true,
    "tags": []
   },
   "outputs": [],
   "source": [
    "train_base_dataset_models(top_features_datasets_trans)"
   ]
  },
  {
   "cell_type": "code",
   "execution_count": null,
   "id": "8d55a0db-34bc-4c69-94ea-ebd8b06c2dcf",
   "metadata": {
    "tags": []
   },
   "outputs": [],
   "source": [
    "for marca, marca_config in top_features_datasets_trans.items():\n",
    "    print(f\"Marca {marca} now has {len(marca_config['columns'])} features\")"
   ]
  },
  {
   "cell_type": "code",
   "execution_count": null,
   "id": "1818fd16-2067-448c-9fd2-c2ed38c68a6c",
   "metadata": {},
   "outputs": [],
   "source": [
    "df_top_feat_metrics = pd.concat(\n",
    "    [\n",
    "        marca_config[\"metrics\"]\n",
    "        for marca, marca_config in top_features_datasets_trans.items()\n",
    "    ]\n",
    ")\n",
    "df_top_feat_metrics"
   ]
  },
  {
   "cell_type": "code",
   "execution_count": null,
   "id": "f00867a4-6990-4b89-945c-35a6867088e6",
   "metadata": {
    "tags": []
   },
   "outputs": [],
   "source": [
    "df_top_feat_metrics[\n",
    "    df_top_feat_metrics[\"split\"] == \"test\"\n",
    "].sort_values(\"marca\")"
   ]
  },
  {
   "cell_type": "code",
   "execution_count": null,
   "id": "3c704f31-4c29-4840-bfc1-5d845fec6673",
   "metadata": {
    "tags": []
   },
   "outputs": [],
   "source": [
    "for marca, marca_config in top_features_datasets_trans.items():\n",
    "    print(\"*\" * 20)\n",
    "    print(f\"Marca {marca} columns: {marca_config['columns']}\")"
   ]
  },
  {
   "cell_type": "code",
   "execution_count": null,
   "id": "7fe6ffe1-a6fb-47ac-9128-6f5de61c7759",
   "metadata": {},
   "outputs": [],
   "source": [
    "with open(OUTPUT_MODELS_FILE, \"wb\") as f:\n",
    "    pickle.dump(top_features_datasets_trans, f)"
   ]
  },
  {
   "cell_type": "code",
   "execution_count": null,
   "id": "b8d12285-5ed4-4946-a0f3-f484912380bb",
   "metadata": {},
   "outputs": [],
   "source": []
  }
 ],
 "metadata": {
  "kernelspec": {
   "display_name": "Python 3 (ipykernel)",
   "language": "python",
   "name": "python3"
  },
  "language_info": {
   "codemirror_mode": {
    "name": "ipython",
    "version": 3
   },
   "file_extension": ".py",
   "mimetype": "text/x-python",
   "name": "python",
   "nbconvert_exporter": "python",
   "pygments_lexer": "ipython3",
   "version": "3.11.5"
  }
 },
 "nbformat": 4,
 "nbformat_minor": 5
}
